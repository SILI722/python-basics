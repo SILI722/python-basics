{
  "nbformat": 4,
  "nbformat_minor": 0,
  "metadata": {
    "colab": {
      "provenance": []
    },
    "kernelspec": {
      "name": "python3",
      "display_name": "Python 3"
    },
    "language_info": {
      "name": "python"
    }
  },
  "cells": [
    {
      "cell_type": "markdown",
      "source": [
        "#python Basics"
      ],
      "metadata": {
        "id": "wYp4nBumsn9D"
      }
    },
    {
      "cell_type": "markdown",
      "source": [
        "1.What is python and why is it popular?\n",
        ">Python is a programming language that's popular because it's easy to learn, versatile, and can be used for many different applications.\n",
        ">Python's syntax is simple and straightforward, similar to English, which makes it accessible to beginners.\n",
        ">Python can help developers write less code, which speeds up the development process."
      ],
      "metadata": {
        "id": "DaFOxjLksy1e"
      }
    },
    {
      "cell_type": "markdown",
      "source": [
        "2.What is an interpreter in python?\n",
        ">A Python interpreter is a program that reads and executes Python code. It's a core component of the Python programming language."
      ],
      "metadata": {
        "id": "HEQN4kEftyZA"
      }
    },
    {
      "cell_type": "markdown",
      "source": [
        "3.What are pre-defined keywords in python?\n",
        ">Keywords in Python are predefined reserved words with special meanings so the interpreter can understand them. They perform specific tasks in Python programming and are a part of its syntax."
      ],
      "metadata": {
        "id": "NERX-zYNuRnp"
      }
    },
    {
      "cell_type": "markdown",
      "source": [
        "4.Can Keywords be used as variable names?\n",
        ">Keywords in Python are predefined reserved words with special meanings so the interpreter can understand them. They perform specific tasks in Python programming and are a part of its syntax.\n"
      ],
      "metadata": {
        "id": "ogiSe4LzuoIJ"
      }
    },
    {
      "cell_type": "markdown",
      "source": [
        "5.What is Mutability in python?\n",
        ">In Python, mutability is the ability to change the value or state of an object after it has been created. Mutable objects can be modified in place, which means that the original object is changed, rather than a new object being created."
      ],
      "metadata": {
        "id": "Gl33_DUXvOnP"
      }
    },
    {
      "cell_type": "markdown",
      "source": [
        "6.Why are list mutable ,but tuples are immutable?\n",
        ">The main difference between tuples and lists is that tuples are immutable, meaning their contents cannot be changed after creation, while lists are mutable and can be modified. Additionally, tuples are more memory-efficient compared to lists. Tuples can't be changed after they're created, but lists can be modified."
      ],
      "metadata": {
        "id": "goz-QVpTvmbF"
      }
    },
    {
      "cell_type": "markdown",
      "source": [
        "7.What is the difference between \"==\" and \"is\" operators in python?\n",
        ">In Python, the == operator compares the values of two objects, while the is operator compares if two variables point to the same object in memory."
      ],
      "metadata": {
        "id": "XbSgIQQBwi_n"
      }
    },
    {
      "cell_type": "markdown",
      "source": [
        "8.What are logical operators in python?\n",
        ">Logical operators in Python are keywords that evaluate conditions and combine multiple expressions. They are used in conditional statements to create decision-making processes."
      ],
      "metadata": {
        "id": "jC9DvrVKw7Q8"
      }
    },
    {
      "cell_type": "markdown",
      "source": [
        "9.What is type casting in python?\n",
        ">Type casting in Python is the process of changing a variable's data type from one type to another. It's also known as type conversion."
      ],
      "metadata": {
        "id": "MfmlgHqaxN56"
      }
    },
    {
      "cell_type": "markdown",
      "source": [
        "10.What is the difference between implict and explicit type castng?\n",
        ">Implicit type casting is when a programming language automatically converts one data type to another, while explicit type casting requires the programmer to manually specify the conversion"
      ],
      "metadata": {
        "id": "j1OarcE6xbbB"
      }
    },
    {
      "cell_type": "markdown",
      "source": [
        "11.What is the purpose of conditional statement in python?\n",
        ">A conditional statement in Python allows a program to execute specific blocks of code based on whether a certain condition is true or false, essentially enabling decision-making within the program by controlling the flow of execution depending on different scenarios; it's a fundamental building block for creating dynamic and responsive programs."
      ],
      "metadata": {
        "id": "eF-kZO4sxwfX"
      }
    },
    {
      "cell_type": "markdown",
      "source": [
        "12.How does the elif statement work?\n",
        ">The “elif” keyword in Python, stands for “else if”. It can be used in conditional statements to check for multiple conditions. For example, if the first condition is false, it moves on to the next “elif” statement to check if that condition is true."
      ],
      "metadata": {
        "id": "ymaifDBfyCl3"
      }
    },
    {
      "cell_type": "markdown",
      "source": [
        "13.What is the difference for and while loops?\n",
        ">A \"for\" loop is used when you know the exact number of times you want to loop through a block of code, while a \"while\" loop is used when you need to repeat a block of code as long as a specific condition remains true"
      ],
      "metadata": {
        "id": "-byr7kXWyUu4"
      }
    },
    {
      "cell_type": "markdown",
      "source": [
        "14.Describe a scenario where a while loop is more suitable than a for loop?\n",
        ">In contrast to a 'for' loop, which is generally used when the number of iterations is known beforehand, a 'while' loop is ideal for situations where the number of iterations is not predetermined and depends on some dynamic condition."
      ],
      "metadata": {
        "id": "DAnJCop0yl0g"
      }
    },
    {
      "cell_type": "markdown",
      "source": [],
      "metadata": {
        "id": "kxGOufHOy9ia"
      }
    }
  ]
}